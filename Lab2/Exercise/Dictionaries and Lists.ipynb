{
 "cells": [
  {
   "cell_type": "markdown",
   "metadata": {},
   "source": [
    "## Lab-2 Exercise - Dictionaries and Lists"
   ]
  },
  {
   "cell_type": "code",
   "execution_count": 2,
   "metadata": {},
   "outputs": [],
   "source": [
    "from collections import defaultdict\n",
    "import os"
   ]
  },
  {
   "cell_type": "code",
   "execution_count": 40,
   "metadata": {},
   "outputs": [],
   "source": [
    "def file_to_list(file_name):\n",
    "        \n",
    "#print file_to_list(\"chap1.txt\")"
   ]
  },
  {
   "cell_type": "code",
   "execution_count": 41,
   "metadata": {},
   "outputs": [],
   "source": [
    "def make_dictionary(list_of_words):\n",
    "    \n",
    "#print make_dictionary(file_to_list(\"chap2.txt\"))"
   ]
  },
  {
   "cell_type": "markdown",
   "metadata": {},
   "source": [
    "### Task 1\n",
    "In this task you have to convert two files named **chap1.txt** and **chap2.txt** to dictionary. Then you have to combine these two dictionary to form one unified diicctionary using the function: ```combine_dict(list_of_dictionaries)```. The function accepts a list of dictionaries and returns one unified dictionary.\n",
    "\n",
    "**Note :** For this task you will use default ``` defaultdict ``` from module ```collections```. For your convinience it is imported. "
   ]
  },
  {
   "cell_type": "code",
   "execution_count": 42,
   "metadata": {},
   "outputs": [],
   "source": [
    "def combine_dict(list_of_dictionaries):\n",
    "\n",
    "#cdict=combine_dict([make_dictionary(file_to_list(\"chap1.txt\")),make_dictionary(file_to_list(\"chap2.txt\"))])\n",
    "#print cdict"
   ]
  },
  {
   "cell_type": "markdown",
   "metadata": {},
   "source": [
    "### Task 2\n",
    "Implement the following function, that sorts a dictionary, one the basis of keys / values in assending / decending order and returns the resulting sorted list of tuples of the form (k,v).\n"
   ]
  },
  {
   "cell_type": "code",
   "execution_count": 43,
   "metadata": {},
   "outputs": [],
   "source": [
    "def sort_dictionary(dictionary, on_keys = True, assending = True):\n",
    "    \n",
    "    \n",
    "#print sort_dictionary(cdict,on_keys=True,assending=True)"
   ]
  },
  {
   "cell_type": "markdown",
   "metadata": {},
   "source": [
    "#### Question : Why we did not return sorted dictionary instead of list of tuples"
   ]
  },
  {
   "cell_type": "code",
   "execution_count": 44,
   "metadata": {
    "collapsed": true
   },
   "outputs": [],
   "source": [
    "# write your answer here #"
   ]
  },
  {
   "cell_type": "markdown",
   "metadata": {},
   "source": [
    "### Task 3 \n",
    "You are provided with a folder ```names```. The flder contains text files correspoing to years from *1880* to *2014*. These files contain popularity of different names in each year. Each line in these files contains :\n",
    "    - Name\n",
    "    - Gender (M / F)\n",
    "    - Count (Number of newborns given that name)\n",
    "   \n",
    "We will represent this information using dictionaries in multiple forms.\n",
    "\n",
    "#### Tesk 3.1 \n",
    "Implement the following function and read all the files and return a dictionary of the form : ``` year -> List of tuple (name, gender, count)```"
   ]
  },
  {
   "cell_type": "code",
   "execution_count": 86,
   "metadata": {},
   "outputs": [],
   "source": [
    "def files_to_dict_1(folder_name):\n",
    "    \n"
   ]
  },
  {
   "cell_type": "markdown",
   "metadata": {},
   "source": [
    "#### Tesk 3.2\n",
    "Implement the following function and read all the files and return a dictionary of the form : ``` ( name, gender ) -> list of (years, counts)```"
   ]
  },
  {
   "cell_type": "code",
   "execution_count": 5,
   "metadata": {},
   "outputs": [],
   "source": [
    "def files_to_dict_2(folder_name):\n",
    "    \n",
    "#print files_to_dict_2(\"names\")"
   ]
  },
  {
   "cell_type": "markdown",
   "metadata": {},
   "source": [
    "#### Tesk 3.3\n",
    "Implement the following function and read all the files and return a dictionary of the form : ``` name -> total count over the years ```"
   ]
  },
  {
   "cell_type": "code",
   "execution_count": 6,
   "metadata": {},
   "outputs": [],
   "source": [
    "def files_to_dict_3(folder_name):\n",
    "    \n",
    "#print files_to_dict_3(\"names\")"
   ]
  },
  {
   "cell_type": "markdown",
   "metadata": {},
   "source": [
    "#### Tesk 3.4\n",
    "Implement the following function and read all the files and return a nested dictionary of the form :\n",
    "\n",
    "``` name -> dictionary of the form : year -> count ```"
   ]
  },
  {
   "cell_type": "code",
   "execution_count": 87,
   "metadata": {},
   "outputs": [],
   "source": [
    "\n",
    "\n",
    "def files_to_dict_4(folder_name):\n",
    "    \n",
    "#print files_to_dict_4(\"names\")"
   ]
  },
  {
   "cell_type": "markdown",
   "metadata": {},
   "source": [
    "#### Task 3.5\n",
    "Implement the fololowing functions to answer the following questions using the dictionaries made in the tasks *3.1 - 3.4*\n",
    "- Given a name, return the list of tuples of the form (year, count). *List should be sorted on the basis of year / counts*\n",
    "- Given a year, return the list of **top n** names sorted by counts.\n",
    "- Given a name, return the sorted list of probabilities of this name in different years."
   ]
  },
  {
   "cell_type": "code",
   "execution_count": 79,
   "metadata": {},
   "outputs": [
    {
     "data": {
      "text/plain": [
       "[(1883, 32)]"
      ]
     },
     "execution_count": 79,
     "metadata": {},
     "output_type": "execute_result"
    }
   ],
   "source": [
    "def accurance_list(dictionary, name, sorted_by_year = True):\n",
    "    \n",
    "#accurance_list(files_to_dict_4(\"names\"),\"Mary\")"
   ]
  },
  {
   "cell_type": "code",
   "execution_count": 85,
   "metadata": {},
   "outputs": [
    {
     "name": "stdout",
     "output_type": "stream",
     "text": [
      "[('Emma,F,20799',), ('Olivia,F,19674',), ('Sophia,F,18490',), ('Isabella,F,16950',), ('Ava,F,15586',), ('Mia,F,13442',), ('Emily,F,12562',), ('Abigail,F,11985',), ('Madison,F,10247',), ('Charlotte,F,10048',)]\n"
     ]
    }
   ],
   "source": [
    "def top_n(dictionary, year, n=10):\n",
    "    \n",
    "#print top_n(files_to_dict_1(\"names\"),2014)"
   ]
  },
  {
   "cell_type": "code",
   "execution_count": 88,
   "metadata": {},
   "outputs": [
    {
     "name": "stdout",
     "output_type": "stream",
     "text": [
      "5\n",
      "None\n"
     ]
    }
   ],
   "source": [
    "def prob(dictionary, name):\n",
    "    \n",
    "#print prob(files_to_dict_4(\"names\"),\"Mary\")"
   ]
  },
  {
   "cell_type": "markdown",
   "metadata": {
    "collapsed": true
   },
   "source": [
    "#### Get Creative and play with these dictionaries to find usefull insights"
   ]
  },
  {
   "cell_type": "code",
   "execution_count": null,
   "metadata": {
    "collapsed": true
   },
   "outputs": [],
   "source": []
  }
 ],
 "metadata": {
  "anaconda-cloud": {},
  "kernelspec": {
   "display_name": "Python 2",
   "language": "python",
   "name": "python2"
  },
  "language_info": {
   "codemirror_mode": {
    "name": "ipython",
    "version": 2
   },
   "file_extension": ".py",
   "mimetype": "text/x-python",
   "name": "python",
   "nbconvert_exporter": "python",
   "pygments_lexer": "ipython2",
   "version": "2.7.13"
  }
 },
 "nbformat": 4,
 "nbformat_minor": 1
}
